{
 "cells": [
  {
   "cell_type": "markdown",
   "metadata": {},
   "source": [
    "Numpy's $N$-dimensional arrays can be stored in row-major order (\"C\") or column-major order (\"Fortran\"). Regardless of the storage order, an $N$-dimensional array is stored as a 1D contiguous array in memory. The follow equation maps an $N$-dimensional index to a 1-dimensional index into the contiguous array.\n",
    "\n",
    "$\n",
    "\\begin{align}\n",
    "n = \\sum_{i = 0}^{N-1} \\left( n_i \\prod_{j = i+1}^{N-1} d_j \\right)\n",
    "\\end{align}\n",
    "$\n",
    "\n",
    "where $n_i$ is the value of the $i$-th index and $d_j$ is the size of the $j$-th dimension.\n",
    "\n",
    "For example, the 1D index at $(1,3,2)$ of a $4 \\times 5 \\times 6$ array is\n",
    "$1 \\cdot (5 \\cdot 6) + 3 \\cdot (6) + 2 \\cdot 1 = 50$.\n",
    "\n",
    "![N-dimensional array](ndimarray.jpg)\n",
    "![one-dimensional array](onedimarray.jpg)"
   ]
  },
  {
   "cell_type": "markdown",
   "metadata": {},
   "source": [
    "Because $N$-dimensional arrays are laid out this way, it's important to write code that takes advantage of spatial locality and reduce runtimes."
   ]
  },
  {
   "cell_type": "code",
   "execution_count": 10,
   "metadata": {
    "collapsed": false
   },
   "outputs": [
    {
     "name": "stdout",
     "output_type": "stream",
     "text": [
      "Elapsed time when not using spatial locality: 0:01:43.443261\n",
      "Elapsed time when using spatial locality:     0:01:33.018627\n"
     ]
    }
   ],
   "source": [
    "import numpy as np\n",
    "from datetime import datetime\n",
    "\n",
    "M = 20000\n",
    "N = 20000\n",
    "a1 = np.ndarray(shape=(M,N), dtype=float, order='C')\n",
    "a2 = np.ndarray(shape=(M,N), dtype=float, order='C')\n",
    "\n",
    "# Write to an ndarray inefficiently by jumping from one partition to another in the\n",
    "# inner for-loop.\n",
    "counter = 0\n",
    "start_time = datetime.now()\n",
    "for j in xrange(N):\n",
    "    for i in xrange(M):\n",
    "        a2[i, j] = counter\n",
    "        counter += 1\n",
    "end_time = datetime.now()\n",
    "\n",
    "print \"Elapsed time when not using spatial locality: %s\" % (end_time - start_time)\n",
    "\n",
    "# Write to an ndarray efficiently by staying within the same partition in the inner for-loop.\n",
    "counter = 0\n",
    "start_time = datetime.now()\n",
    "for i in xrange(M):\n",
    "    for j in xrange(N):\n",
    "        a1[i, j] = counter\n",
    "        counter += 1\n",
    "end_time = datetime.now()\n",
    "\n",
    "print \"Elapsed time when using spatial locality:     %s\" % (end_time - start_time)"
   ]
  },
  {
   "cell_type": "markdown",
   "metadata": {},
   "source": [
    "# Row-major vs Column-major\n",
    "Objects in memory are grouped and ordered by attribute. If more than one attribute is used in ordering, the first is called the **major**. When storing data in **row-major order**, the elements in the same row of a matrix are stored side by side. Once one whole row is stored contiguously, the next row is then stored, and so on.\n",
    "\n",
    "When storing data in **column-major order**, the elements in the same column of a matrix are stored side by side."
   ]
  },
  {
   "cell_type": "markdown",
   "metadata": {},
   "source": [
    "# Resources\n",
    "* [NumPy internals](https://docs.scipy.org/doc/numpy/reference/internals.html)\n",
    "* [Row-major vs Column-major order](https://en.wikipedia.org/wiki/Row-_and_column-major_order)"
   ]
  }
 ],
 "metadata": {
  "kernelspec": {
   "display_name": "Python 2",
   "language": "python",
   "name": "python2"
  },
  "language_info": {
   "codemirror_mode": {
    "name": "ipython",
    "version": 2
   },
   "file_extension": ".py",
   "mimetype": "text/x-python",
   "name": "python",
   "nbconvert_exporter": "python",
   "pygments_lexer": "ipython2",
   "version": "2.7.13"
  }
 },
 "nbformat": 4,
 "nbformat_minor": 2
}
